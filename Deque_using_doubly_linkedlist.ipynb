{
 "cells": [
  {
   "cell_type": "code",
   "execution_count": 1,
   "metadata": {},
   "outputs": [],
   "source": [
    "class Node:\n",
    "    def __init__(self,item=None,next=None,prev=None):\n",
    "        self.item=item\n",
    "        self.next=next\n",
    "        self.prev=prev\n",
    "\n",
    "class Deque:\n",
    "    def __init__(self,front=None,rear=None,item_count=0):\n",
    "        self.front=front\n",
    "        self.rear=rear\n",
    "        self.item_count=item_count\n",
    "\n",
    "    def is_empty(self):\n",
    "        if self.front==None:\n",
    "            print(\"Empty Deque\")\n",
    "        else:\n",
    "            print(\"Not empty Deque\")\n",
    "\n",
    "    def insert_front(self,item):\n",
    "        i=Node(item,self.front)\n",
    "        if self.front is not None:\n",
    "            self.front=i\n",
    "        else:\n",
    "            self.front=i\n",
    "    \n",
    "\n"
   ]
  }
 ],
 "metadata": {
  "kernelspec": {
   "display_name": "Python 3",
   "language": "python",
   "name": "python3"
  },
  "language_info": {
   "codemirror_mode": {
    "name": "ipython",
    "version": 3
   },
   "file_extension": ".py",
   "mimetype": "text/x-python",
   "name": "python",
   "nbconvert_exporter": "python",
   "pygments_lexer": "ipython3",
   "version": "3.10.9"
  }
 },
 "nbformat": 4,
 "nbformat_minor": 2
}
