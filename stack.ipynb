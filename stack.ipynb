{
 "cells": [
  {
   "cell_type": "code",
   "execution_count": 33,
   "metadata": {},
   "outputs": [],
   "source": [
    "class Stack:\n",
    "    def __init__(self):\n",
    "        self.items=[]\n",
    "    \n",
    "    def is_empty(self):\n",
    "        if len(self.items)==0:\n",
    "            print(\"Stack is empty\")\n",
    "        else:\n",
    "            print(\"Stack is not empty\")\n",
    "    \n",
    "    def push(self,item):\n",
    "        self.items.append(item)\n",
    "\n",
    "    def pop(self,item):\n",
    "        if not self.is_empty():\n",
    "            return self.items.pop()\n",
    "        else:\n",
    "            raise IndexError(\"Stack is empty\")\n",
    "    \n",
    "    def peek(self):\n",
    "        if len(self.items)==0:\n",
    "            print(\"Stack is empty\")\n",
    "        else:\n",
    "            return self.items[-1]\n",
    "\n",
    "    def define_size(self):\n",
    "        return f\"Size of stack is: {len(self.items)}\"\n",
    "    \n",
    "    def print_stack(self):\n",
    "        if not self.is_empty():\n",
    "            for i in self.items:\n",
    "                print(self.items[i])  "
   ]
  }
 ],
 "metadata": {
  "kernelspec": {
   "display_name": "Python 3",
   "language": "python",
   "name": "python3"
  },
  "language_info": {
   "codemirror_mode": {
    "name": "ipython",
    "version": 3
   },
   "file_extension": ".py",
   "mimetype": "text/x-python",
   "name": "python",
   "nbconvert_exporter": "python",
   "pygments_lexer": "ipython3",
   "version": "3.10.9"
  }
 },
 "nbformat": 4,
 "nbformat_minor": 2
}
