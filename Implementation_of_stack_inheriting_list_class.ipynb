{
 "cells": [
  {
   "cell_type": "code",
   "execution_count": 5,
   "metadata": {},
   "outputs": [],
   "source": [
    "class stack(list):\n",
    "    def is_empty(self):\n",
    "        return len(self)==0\n",
    "    \n",
    "    def push(self,data):\n",
    "        self.append(data)\n",
    "\n",
    "    def pop(self):\n",
    "        if not self.is_empty():\n",
    "            return super().pop()\n",
    "        else:\n",
    "            raise IndexError(\"Stack is empty\")\n",
    "\n",
    "    def peek(self):\n",
    "        if not self.is_empty():\n",
    "            return self[-1]\n",
    "        else:\n",
    "            raise IndexError(\"Stack is empty\")\n",
    "    \n",
    "    def size(self):\n",
    "        return len(self)"
   ]
  },
  {
   "cell_type": "code",
   "execution_count": null,
   "metadata": {},
   "outputs": [],
   "source": []
  }
 ],
 "metadata": {
  "kernelspec": {
   "display_name": "Python 3",
   "language": "python",
   "name": "python3"
  },
  "language_info": {
   "codemirror_mode": {
    "name": "ipython",
    "version": 3
   },
   "file_extension": ".py",
   "mimetype": "text/x-python",
   "name": "python",
   "nbconvert_exporter": "python",
   "pygments_lexer": "ipython3",
   "version": "3.10.9"
  }
 },
 "nbformat": 4,
 "nbformat_minor": 2
}
