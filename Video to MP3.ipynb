{
 "cells": [
  {
   "cell_type": "markdown",
   "id": "0f42bbb1",
   "metadata": {},
   "source": [
    "# Video to MP3"
   ]
  },
  {
   "cell_type": "code",
   "execution_count": 1,
   "id": "68bea7fd",
   "metadata": {},
   "outputs": [],
   "source": [
    "from moviepy.editor import *\n",
    "from IPython.display import Audio, display, FileLink\n",
    "#from moviepy.editor import *: This line imports all classes and functions from the moviepy.editor module. The moviepy library is used for video editing and manipulation in Python."
   ]
  },
  {
   "cell_type": "code",
   "execution_count": 11,
   "id": "271efc43",
   "metadata": {},
   "outputs": [],
   "source": [
    "# Specify the path to your video file\n",
    "video_path =r\"C:\\Users\\pubgp\\OneDrive\\Documents\\EDA\\Interstellar Ringtone 🎧❤.mp4\""
   ]
  },
  {
   "cell_type": "code",
   "execution_count": 12,
   "id": "7df813ec",
   "metadata": {},
   "outputs": [],
   "source": [
    "# Load the video clip\n",
    "video_clip=VideoFileClip(video_path)\n",
    "\n",
    "\n",
    "#video_clip: This is a variable that will store the video clip object. It's created by loading the video located at video_path using the VideoFileClip constructor from the moviepy.editor module. This line loads the video into memory for further processing."
   ]
  },
  {
   "cell_type": "code",
   "execution_count": 13,
   "id": "a384e3cb",
   "metadata": {},
   "outputs": [],
   "source": [
    "# Extract the audio from the video clip\n",
    "audio_clip=video_clip.audio\n",
    "\n",
    "#audio_clip: This variable stores the audio portion extracted from the video clip. It's obtained by accessing the audio attribute of the video_clip object. This step separates the audio from the video."
   ]
  },
  {
   "cell_type": "code",
   "execution_count": 14,
   "id": "288ae93e",
   "metadata": {},
   "outputs": [],
   "source": [
    "# Specify the output MP3 file name\n",
    "output_mp3_file='interstellar.mp3'"
   ]
  },
  {
   "cell_type": "code",
   "execution_count": 15,
   "id": "862e4512",
   "metadata": {},
   "outputs": [
    {
     "name": "stdout",
     "output_type": "stream",
     "text": [
      "MoviePy - Writing audio in interstellar.mp3\n"
     ]
    },
    {
     "name": "stderr",
     "output_type": "stream",
     "text": [
      "                                                                                                                       "
     ]
    },
    {
     "name": "stdout",
     "output_type": "stream",
     "text": [
      "MoviePy - Done.\n"
     ]
    },
    {
     "name": "stderr",
     "output_type": "stream",
     "text": [
      "\r"
     ]
    }
   ],
   "source": [
    "# Write the audio to an MP3 file\n",
    "audio_clip.write_audiofile(output_mp3_file)\n",
    "\n",
    "#audio_clip.write_audiofile(output_mp3_file): This line writes the audio data from audio_clip to an MP3 file with the name specified in output_mp3_file. It effectively saves the extracted audio as an MP3 file."
   ]
  },
  {
   "cell_type": "code",
   "execution_count": 16,
   "id": "dfce5be3",
   "metadata": {},
   "outputs": [],
   "source": [
    "\n",
    "\n",
    "#video_clip.close(): This line closes the video clip, releasing the associated resources.\n",
    "#audio_clip.close(): This line closes the audio clip, releasing its resources."
   ]
  },
  {
   "cell_type": "code",
   "execution_count": 17,
   "id": "711c855a",
   "metadata": {},
   "outputs": [
    {
     "data": {
      "text/html": [
       "Click here to download: <a href='interstellar.mp3' target='_blank'>interstellar.mp3</a><br>"
      ],
      "text/plain": [
       "C:\\Users\\pubgp\\OneDrive\\Documents\\EDA\\interstellar.mp3"
      ]
     },
     "metadata": {},
     "output_type": "display_data"
    }
   ],
   "source": [
    "# Display a download link for the converted MP3 file\n",
    "display(FileLink(output_mp3_file, result_html_prefix=\"Click here to download: \"))"
   ]
  },
  {
   "cell_type": "code",
   "execution_count": null,
   "id": "b9782254",
   "metadata": {},
   "outputs": [],
   "source": []
  }
 ],
 "metadata": {
  "kernelspec": {
   "display_name": "Python 3 (ipykernel)",
   "language": "python",
   "name": "python3"
  },
  "language_info": {
   "codemirror_mode": {
    "name": "ipython",
    "version": 3
   },
   "file_extension": ".py",
   "mimetype": "text/x-python",
   "name": "python",
   "nbconvert_exporter": "python",
   "pygments_lexer": "ipython3",
   "version": "3.9.17"
  }
 },
 "nbformat": 4,
 "nbformat_minor": 5
}
