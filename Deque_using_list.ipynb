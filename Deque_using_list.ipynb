{
 "cells": [
  {
   "cell_type": "code",
   "execution_count": 13,
   "metadata": {},
   "outputs": [],
   "source": [
    "class Deque:\n",
    "    def __init__(self):\n",
    "        self.items=[]\n",
    "\n",
    "    def is_empty(self):\n",
    "        if len(self.items)==0:\n",
    "            print(\"Empty Deque\")\n",
    "        else:\n",
    "            print(\"Deque is not empty\")\n",
    "    \n",
    "    def insert_first(self,item):\n",
    "        self.items.insert(0,item)\n",
    "    \n",
    "    def insert_rear(self,item):\n",
    "        self.items.insert(-1,item)\n",
    "    \n",
    "    def delete_front(self):\n",
    "        if self.items==None:\n",
    "            raise IndexError(\"Empty Deque\")\n",
    "        else:\n",
    "            self.items.pop(0)\n",
    "    \n",
    "    def delete_rear(self):\n",
    "        if not self.items==None:\n",
    "           self.items.pop()\n",
    "        else:\n",
    "            raise IndexError(\"Empty Deque\")\n",
    "        \n",
    "    def get_front(self):\n",
    "        if not self.items==None:\n",
    "            return self.items[0]\n",
    "        else:\n",
    "            raise IndexError(\"Empty Deque\")\n",
    "    \n",
    "    def get_rear(self):\n",
    "        if not self.items==None:\n",
    "            return self.items[-1]\n",
    "        else:\n",
    "            raise IndexError(\"Empty Deque\")\n",
    "\n",
    "    def size(self):\n",
    "        return len(self.items)\n",
    "    \n",
    "d=Deque()\n",
    "    \n",
    "    "
   ]
  }
 ],
 "metadata": {
  "kernelspec": {
   "display_name": "Python 3",
   "language": "python",
   "name": "python3"
  },
  "language_info": {
   "codemirror_mode": {
    "name": "ipython",
    "version": 3
   },
   "file_extension": ".py",
   "mimetype": "text/x-python",
   "name": "python",
   "nbconvert_exporter": "python",
   "pygments_lexer": "ipython3",
   "version": "3.10.9"
  }
 },
 "nbformat": 4,
 "nbformat_minor": 2
}
