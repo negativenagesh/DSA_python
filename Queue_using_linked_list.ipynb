{
 "cells": [
  {
   "cell_type": "code",
   "execution_count": 16,
   "metadata": {},
   "outputs": [],
   "source": [
    "class Node:\n",
    "    def __init__(self,item,next=None):\n",
    "        self.item=item\n",
    "        self.next=next\n",
    "\n",
    "class Queue:\n",
    "    def __init__(self,front=None,rear=None,item_count=0):\n",
    "        self.front=front\n",
    "        self.rear=rear\n",
    "        self.item_count=item_count\n",
    "\n",
    "    def is_empty(self):\n",
    "        return self.front==None\n",
    "    \n",
    "    def enqueue(self,data):\n",
    "        q=Queue(data)\n",
    "        if self.is_empty():\n",
    "            self.front=q\n",
    "        else:\n",
    "            self.rear.next=q\n",
    "            self.rear=q\n",
    "        self.item_count+=1\n",
    "\n",
    "    def deque(self):\n",
    "        if self.is_empty():\n",
    "            raise IndexError(\"Item does not exist\")\n",
    "        elif self.front==self.rear:\n",
    "            self.front=None\n",
    "            self.rear=None\n",
    "        else:\n",
    "            self.front=None\n",
    "            self.front.next=self.front\n",
    "        self.item_count-=1\n",
    "\n",
    "    def get_front(self):\n",
    "        if self.is_empty():\n",
    "            raise IndexError(\"Queue is empty\")\n",
    "        else:\n",
    "            print(self.front.item)\n",
    "\n",
    "    def get_rear(self):\n",
    "        if self.is_empty():\n",
    "            raise IndexError(\"Queue is empty\")\n",
    "        else:\n",
    "            return self.rear.item \n",
    "\n",
    "    def size(self):\n",
    "        return self.item_count\n",
    "    \n",
    "\n",
    "q=Queue()\n",
    "q.enqueue(100)\n",
    "\n",
    "            "
   ]
  }
 ],
 "metadata": {
  "kernelspec": {
   "display_name": "Python 3",
   "language": "python",
   "name": "python3"
  },
  "language_info": {
   "codemirror_mode": {
    "name": "ipython",
    "version": 3
   },
   "file_extension": ".py",
   "mimetype": "text/x-python",
   "name": "python",
   "nbconvert_exporter": "python",
   "pygments_lexer": "ipython3",
   "version": "3.10.9"
  }
 },
 "nbformat": 4,
 "nbformat_minor": 2
}
